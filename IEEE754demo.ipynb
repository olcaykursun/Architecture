{
  "nbformat": 4,
  "nbformat_minor": 0,
  "metadata": {
    "colab": {
      "provenance": [],
      "include_colab_link": true
    },
    "kernelspec": {
      "name": "python3",
      "display_name": "Python 3"
    },
    "language_info": {
      "name": "python"
    }
  },
  "cells": [
    {
      "cell_type": "markdown",
      "metadata": {
        "id": "view-in-github",
        "colab_type": "text"
      },
      "source": [
        "<a href=\"https://colab.research.google.com/github/olcaykursun/Architecture/blob/main/IEEE754demo.ipynb\" target=\"_parent\"><img src=\"https://colab.research.google.com/assets/colab-badge.svg\" alt=\"Open In Colab\"/></a>"
      ]
    },
    {
      "cell_type": "code",
      "execution_count": 17,
      "metadata": {
        "id": "J7jZ_S-X1RJw",
        "colab": {
          "base_uri": "https://localhost:8080/"
        },
        "outputId": "61142603-e96d-4fe1-a22a-a16a0fc0fd60"
      },
      "outputs": [
        {
          "output_type": "stream",
          "name": "stdout",
          "text": [
            "Overwriting IEEE754demo.c\n"
          ]
        }
      ],
      "source": [
        "%%writefile IEEE754demo.c\n",
        "//  Read more here: https://docs.oracle.com/cd/E19957-01/806-3568/ncg_goldberg.html\n",
        "//\n",
        "//  Double 0.1 + 0.2 > 0.3\n",
        "//\n",
        "//  Created by Olcay Kursun on 6/8/23.\n",
        "//\n",
        "\n",
        "#include <stdio.h>\n",
        "int main() {\n",
        "\n",
        "    printf(\"Now working with doubles:\\n\");\n",
        "    double num1 = 0.1;\n",
        "    double num2 = 0.2;\n",
        "    double num3 = 0.3;\n",
        "    double sum = num1 + num2;\n",
        "    unsigned long int *p = (unsigned long int *)&num1;\n",
        "    printf(\"IEEE 754 representation of 0.1: %lX\\n\", *p);\n",
        "    p = (unsigned long int *)&num2;\n",
        "    printf(\"IEEE 754 representation of 0.2: %lX\\n\", *p);\n",
        "    p = (unsigned long int *)&num3;\n",
        "    printf(\"IEEE 754 representation of 0.3: %lX\\n\", *p);\n",
        "    p = (unsigned long int *)&sum;\n",
        "    printf(\"IEEE 754 representation of sum: %lX\", *p);\n",
        "    if (sum == num3)\n",
        "        printf(\", which equals 0.3\\n\");\n",
        "    else\n",
        "        printf(\", which not equals 0.3\\n\");\n",
        "\n",
        "    printf(\"\\n\\nNow working with floats:\\n\");\n",
        "    float fnum1 = 0.1;\n",
        "    if (false) {    //Do this to check if the rounding was really performed there when we shifted the mantissa to the right to equalize powers\n",
        "        double temp = 1.0L / (1 << 26) + 0.1L; //this is to demonstrate the even-odd rounding rule and to make sure my \"rounding logic\" is correct\n",
        "        float fnum1_even = 0.1f;\n",
        "        fnum1 = temp; //odd\n",
        "        if (fnum1_even == fnum1)\n",
        "            printf(\"Working with 0.1 plus 2^-26, which equals 0.1\\n\");\n",
        "        else\n",
        "            printf(\"Working with 0.1 plus 2^-26, which not equals 0.1\\n\");\n",
        "    }\n",
        "\n",
        "    float fnum2 = 0.2;\n",
        "    if (false) {    //Do this to check if the rounding was really performed there when we shifted the mantissa to the right to equalize powers\n",
        "        double temp = 1.0L / (1 << 25) + 0.2L; //this is to demonstrate the even-odd rounding rule and to make sure my \"rounding logic\" is correct\n",
        "        float fnum2_even = 0.2f;\n",
        "        fnum2 = temp; //odd\n",
        "        if (fnum2_even == fnum2)\n",
        "            printf(\"Working with 0.2 plus 2^-25, which equals 0.2\\n\");\n",
        "        else\n",
        "            printf(\"Working with 0.2 plus 2^-25, which not equals to 0.2\\n\");\n",
        "    }\n",
        "\n",
        "    float fnum3 = 0.3;\n",
        "    float fsum = fnum1 + fnum2;\n",
        "\n",
        "    unsigned int *fp = (unsigned int *)&fnum1;\n",
        "    printf(\"IEEE 754 representation of 0.1: %X\\n\", *fp);\n",
        "    fp = (unsigned int *)&fnum2;\n",
        "    printf(\"IEEE 754 representation of 0.2: %X\\n\", *fp);\n",
        "    fp = (unsigned int *)&fnum3;\n",
        "    printf(\"IEEE 754 representation of 0.3: %X\\n\", *fp);\n",
        "    fp = (unsigned int *)&fsum;\n",
        "    printf(\"IEEE 754 representation of sum: %X\", *fp);\n",
        "    if (fsum == fnum3)\n",
        "        printf(\", which equals 0.3\\n\");\n",
        "    else\n",
        "        printf(\", which not equals 0.3\\n\");\n",
        "\n",
        "    return 0;\n",
        "}\n"
      ]
    },
    {
      "cell_type": "code",
      "source": [
        "! g++ -o program IEEE754demo.c && ./program"
      ],
      "metadata": {
        "colab": {
          "base_uri": "https://localhost:8080/"
        },
        "id": "ySy8oChy_NDF",
        "outputId": "28e0bf39-4509-46fd-e8dd-6a91501afa46"
      },
      "execution_count": 18,
      "outputs": [
        {
          "output_type": "stream",
          "name": "stdout",
          "text": [
            "Now working with doubles:\n",
            "IEEE 754 representation of 0.1: 3FB999999999999A\n",
            "IEEE 754 representation of 0.2: 3FC999999999999A\n",
            "IEEE 754 representation of 0.3: 3FD3333333333333\n",
            "IEEE 754 representation of sum: 3FD3333333333334, which not equals 0.3\n",
            "\n",
            "\n",
            "Now working with floats:\n",
            "IEEE 754 representation of 0.1: 3DCCCCCD\n",
            "IEEE 754 representation of 0.2: 3E4CCCCD\n",
            "IEEE 754 representation of 0.3: 3E99999A\n",
            "IEEE 754 representation of sum: 3E99999A, which equals 0.3\n"
          ]
        }
      ]
    }
  ]
}