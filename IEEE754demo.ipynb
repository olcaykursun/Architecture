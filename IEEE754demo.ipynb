{
  "nbformat": 4,
  "nbformat_minor": 0,
  "metadata": {
    "colab": {
      "provenance": [],
      "include_colab_link": true
    },
    "kernelspec": {
      "name": "python3",
      "display_name": "Python 3"
    },
    "language_info": {
      "name": "python"
    }
  },
  "cells": [
    {
      "cell_type": "markdown",
      "metadata": {
        "id": "view-in-github",
        "colab_type": "text"
      },
      "source": [
        "<a href=\"https://colab.research.google.com/github/olcaykursun/Architecture/blob/main/IEEE754demo.ipynb\" target=\"_parent\"><img src=\"https://colab.research.google.com/assets/colab-badge.svg\" alt=\"Open In Colab\"/></a>"
      ]
    },
    {
      "cell_type": "code",
      "execution_count": 5,
      "metadata": {
        "id": "J7jZ_S-X1RJw",
        "colab": {
          "base_uri": "https://localhost:8080/"
        },
        "outputId": "2a516c56-3935-4512-b0a3-d379e5a09581"
      },
      "outputs": [
        {
          "output_type": "stream",
          "name": "stdout",
          "text": [
            "Overwriting IEEE754demo.c\n"
          ]
        }
      ],
      "source": [
        "%%writefile IEEE754demo.c\n",
        "//\n",
        "//  Double 0.1 + 0.2 > 0.3\n",
        "//\n",
        "//  Created by Olcay Kursun on 6/8/23.\n",
        "//\n",
        "\n",
        "#include <stdio.h>\n",
        "int main() {\n",
        "\n",
        "    double num1 = 0.1;\n",
        "    double num2 = 0.2;\n",
        "    double num3 = 0.3;\n",
        "    double sum = num1 + num2;\n",
        "    unsigned long int *p = (unsigned long int *)&num1;\n",
        "    printf(\"IEEE 754 representation of 0.1: %lX\\n\", *p);\n",
        "    p = (unsigned long int *)&num2;\n",
        "    printf(\"IEEE 754 representation of 0.2: %lX\\n\", *p);\n",
        "    p = (unsigned long int *)&num3;\n",
        "    printf(\"IEEE 754 representation of 0.3: %lX\\n\", *p);\n",
        "    p = (unsigned long int *)&sum;\n",
        "    printf(\"IEEE 754 representation of sum: %lX\\n\", *p);\n",
        "\n",
        "\n",
        "    float fnum1 = 0.1;\n",
        "    float fnum2 = 0.2;\n",
        "    float fnum3 = 0.3;\n",
        "    float fsum = fnum1 + fnum2;\n",
        "    int *fp = (int *)&fnum1;\n",
        "    printf(\"IEEE 754 representation of 0.1: %X\\n\", *fp);\n",
        "    fp = (int *)&fnum2;\n",
        "    printf(\"IEEE 754 representation of 0.2: %X\\n\", *fp);\n",
        "    fp = (int *)&fnum3;\n",
        "    printf(\"IEEE 754 representation of 0.3: %X\\n\", *fp);\n",
        "    fp = (int *)&fsum;\n",
        "    printf(\"IEEE 754 representation of sum: %X\\n\", *fp);\n",
        "\n",
        "\n",
        "    return 0;\n",
        "}\n"
      ]
    },
    {
      "cell_type": "code",
      "source": [
        "! g++ -o program IEEE754demo.c && ./program"
      ],
      "metadata": {
        "colab": {
          "base_uri": "https://localhost:8080/"
        },
        "id": "ySy8oChy_NDF",
        "outputId": "f8f4faf0-3e65-46be-8149-5a6a8465d368"
      },
      "execution_count": 6,
      "outputs": [
        {
          "output_type": "stream",
          "name": "stdout",
          "text": [
            "IEEE 754 representation of 0.1: 3FB999999999999A\n",
            "IEEE 754 representation of 0.2: 3FC999999999999A\n",
            "IEEE 754 representation of 0.3: 3FD3333333333333\n",
            "IEEE 754 representation of sum: 3FD3333333333334\n",
            "IEEE 754 representation of 0.1: 3DCCCCCD\n",
            "IEEE 754 representation of 0.2: 3E4CCCCD\n",
            "IEEE 754 representation of 0.3: 3E99999A\n",
            "IEEE 754 representation of sum: 3E99999A\n"
          ]
        }
      ]
    }
  ]
}